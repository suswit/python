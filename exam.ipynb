{
 "cells": [
  {
   "cell_type": "code",
   "execution_count": 4,
   "metadata": {},
   "outputs": [
    {
     "name": "stdout",
     "output_type": "stream",
     "text": [
      "3 num is odd\n"
     ]
    }
   ],
   "source": [
    "# 1.prg to find the given number n by user is even or odd?\n",
    "def evenodd(n):\n",
    "    if(n==0):\n",
    "        return True\n",
    "    elif(n==1):\n",
    "        return False\n",
    "    else:\n",
    "        return evenodd(n-2)\n",
    "    \n",
    "num = 3\n",
    "if(evenodd(num)):\n",
    "    print(num,\"num is even\")\n",
    "else:\n",
    "    print(num,\"num is odd\")"
   ]
  },
  {
   "cell_type": "code",
   "execution_count": 8,
   "metadata": {},
   "outputs": [
    {
     "name": "stdout",
     "output_type": "stream",
     "text": [
      "Original key list is : ['Ram', 'Rahim']\n",
      "Original value list is : [8, 9]\n",
      "Resultant dictionary is : {'Ram': 8, 'Rahim': 9}\n"
     ]
    }
   ],
   "source": [
    "# 2.prg to convert two lists into a dictionary?\n",
    "keys = [\"Ram\",\"Rahim\"]\n",
    "values = [8,9]\n",
    "print(\"Original key list is : \" + str(keys))\n",
    "print(\"Original value list is : \" + str(values))\n",
    "res = dict(map(lambda i,j : (i,j), keys,values))\n",
    "print(\"Resultant dictionary is : \" +str(res))\n"
   ]
  },
  {
   "cell_type": "code",
   "execution_count": 14,
   "metadata": {},
   "outputs": [
    {
     "name": "stdout",
     "output_type": "stream",
     "text": [
      "67\n",
      "85\n",
      "57\n"
     ]
    }
   ],
   "source": [
    "# 6.prg to find the odd numbers\n",
    "list = [82,67,85,88,57,12]\n",
    "for num in list:\n",
    "    if num % 2 != 0:\n",
    "        print(num)"
   ]
  },
  {
   "cell_type": "code",
   "execution_count": 17,
   "metadata": {},
   "outputs": [
    {
     "name": "stdout",
     "output_type": "stream",
     "text": [
      "9000.0\n"
     ]
    }
   ],
   "source": [
    "# 3.prg to find the simple interest for the principal of 7500\n",
    "p=int(input(\"Enter the value of Principal\"))\n",
    "t=int(input(\"Enter the value of time\"))\n",
    "r=int(input(\"Enter the value of rate of interest\"))\n",
    "\n",
    "def math(p,t,r):\n",
    "    simple_interest = (p*t*r)/100\n",
    "    return simple_interest\n",
    "\n",
    "ans=math(p,t,r)\n",
    "print(ans)\n"
   ]
  }
 ],
 "metadata": {
  "kernelspec": {
   "display_name": "Python 3",
   "language": "python",
   "name": "python3"
  },
  "language_info": {
   "codemirror_mode": {
    "name": "ipython",
    "version": 3
   },
   "file_extension": ".py",
   "mimetype": "text/x-python",
   "name": "python",
   "nbconvert_exporter": "python",
   "pygments_lexer": "ipython3",
   "version": "3.11.1"
  },
  "orig_nbformat": 4
 },
 "nbformat": 4,
 "nbformat_minor": 2
}
