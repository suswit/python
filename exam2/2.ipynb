{
 "cells": [
  {
   "attachments": {},
   "cell_type": "markdown",
   "metadata": {},
   "source": [
    "4. write a program that uses a lambda expression to square each element in a list"
   ]
  },
  {
   "cell_type": "code",
   "execution_count": 48,
   "metadata": {},
   "outputs": [
    {
     "name": "stdout",
     "output_type": "stream",
     "text": [
      "[15, 24, 12, 9, 6, 12]\n"
     ]
    }
   ],
   "source": [
    "\n",
    "numbers=[5,8,4,3,2,4]\n",
    "square_numbers=list(map(lambda x:x*3,numbers))\n",
    "print(square_numbers)"
   ]
  },
  {
   "attachments": {},
   "cell_type": "markdown",
   "metadata": {},
   "source": [
    "5. write a python write a program that reads a text file and prints its content to the console and demonstrate append mode."
   ]
  },
  {
   "cell_type": "code",
   "execution_count": 3,
   "metadata": {},
   "outputs": [
    {
     "name": "stdout",
     "output_type": "stream",
     "text": [
      "This is some additional text.This is some additional text.\n",
      "Appended 'This is some additional text.' to file 'ab.txt'.\n",
      "This is some additional text.This is some additional text.This is some additional text.\n"
     ]
    }
   ],
   "source": [
    "def read_file(file_name):\n",
    "    try:\n",
    "        with open(file_name, 'r') as file:\n",
    "            content = file.read()\n",
    "            print(content)\n",
    "    except FileNotFoundError:\n",
    "        print(f\"File '{file_name}' not found.\")\n",
    "\n",
    "def append_to_file(file_name, text):\n",
    "    try:\n",
    "        with open(file_name, 'a') as file:\n",
    "            file.write(text)\n",
    "            print(f\"Appended '{text}' to file '{file_name}'.\")\n",
    "    except FileNotFoundError:\n",
    "        print(f\"File '{file_name}' not found.\")\n",
    "\n",
    "# Example usage\n",
    "file_name = 'ab.txt'\n",
    "read_file(file_name)\n",
    "\n",
    "text_to_append = \"This is some additional text.\"\n",
    "append_to_file(file_name, text_to_append)\n",
    "\n",
    "# Read the file again to verify the appended content\n",
    "read_file(file_name)"
   ]
  },
  {
   "attachments": {},
   "cell_type": "markdown",
   "metadata": {},
   "source": [
    "1. write a program to construct a list of even numbers from a list of numbers in a csv sheet using list comprehension."
   ]
  },
  {
   "cell_type": "code",
   "execution_count": 45,
   "metadata": {},
   "outputs": [
    {
     "name": "stdout",
     "output_type": "stream",
     "text": [
      "[1, 2, 3, 4, 5, 6, 7, 8, 9, 10]\n",
      "[2, 4, 6, 8, 10]\n"
     ]
    }
   ],
   "source": [
    "import  csv\n",
    "numbers=[1,2,3,4,5,6,7,8,9,10]\n",
    "with open(\"C:/Users/User6/Desktop/CSV.file/Book1.csv\",\"r\") as file:\n",
    "        data=csv.reader(file)\n",
    "        for line in data:\n",
    "            for i in line:\n",
    "                for item in i:\n",
    "                    numbers.append(int(item))\n",
    "print( numbers)\n",
    "even_number=[num for num in numbers if num%2==0]\n",
    "print(even_number)"
   ]
  },
  {
   "attachments": {},
   "cell_type": "markdown",
   "metadata": {},
   "source": [
    "2. write a python program to create a class named Employee with attributes name,position,and salary. Write a method to calculate the annual salary of the employee."
   ]
  },
  {
   "cell_type": "code",
   "execution_count": 49,
   "metadata": {},
   "outputs": [
    {
     "name": "stdout",
     "output_type": "stream",
     "text": [
      "name:Steve position:Manager salary:50000\n"
     ]
    }
   ],
   "source": [
    "class Employe():\n",
    "    name=(\"\")\n",
    "    age=(\"\")\n",
    "    salary=(\"\")\n",
    "    def jobroll(self):\n",
    "        print(\"name:Steve\",\"position:Manager\",\"salary:50000\")\n",
    "\n",
    "def int(self):\n",
    "        pass\n",
    "\n",
    "obj=Employe()\n",
    "obj.jobroll()\n",
    "\n",
    "        \n"
   ]
  }
 ],
 "metadata": {
  "kernelspec": {
   "display_name": "Python 3",
   "language": "python",
   "name": "python3"
  },
  "language_info": {
   "codemirror_mode": {
    "name": "ipython",
    "version": 3
   },
   "file_extension": ".py",
   "mimetype": "text/x-python",
   "name": "python",
   "nbconvert_exporter": "python",
   "pygments_lexer": "ipython3",
   "version": "3.11.2"
  },
  "orig_nbformat": 4
 },
 "nbformat": 4,
 "nbformat_minor": 2
}
