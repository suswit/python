{
 "cells": [
  {
   "cell_type": "code",
   "execution_count": 6,
   "metadata": {},
   "outputs": [
    {
     "name": "stdout",
     "output_type": "stream",
     "text": [
      "Mean score: 86.6\n",
      "Median score: 88.0\n",
      "Standard deviation: 4.882622246293481\n",
      "Variance: 23.84\n"
     ]
    }
   ],
   "source": [
    "import numpy as np\n",
    "\n",
    "# Assuming exam_scores is a NumPy array containing the exam scores\n",
    "exam_scores = np.array([78, 85, 90, 92, 88])\n",
    "\n",
    "# Calculate the mean and median of the exam scores\n",
    "mean_score = np.mean(exam_scores)\n",
    "median_score = np.median(exam_scores)\n",
    "\n",
    "# Compute the standard deviation and variance of the scores\n",
    "std_dev = np.std(exam_scores)\n",
    "variance = np.var(exam_scores)\n",
    "\n",
    "print(\"Mean score:\", mean_score)\n",
    "print(\"Median score:\", median_score)\n",
    "print(\"Standard deviation:\", std_dev)\n",
    "print(\"Variance:\", variance)"
   ]
  },
  {
   "cell_type": "code",
   "execution_count": 7,
   "metadata": {},
   "outputs": [
    {
     "name": "stdout",
     "output_type": "stream",
     "text": [
      "Random Array: [87 16 68 43 62  6 89 70 47 81]\n",
      "Mean: 56.9\n",
      "Standard Deviation: 27.18988782617538\n",
      "Sum: 569\n"
     ]
    }
   ],
   "source": [
    "import numpy as np\n",
    "\n",
    "# Function to generate a random array of size N within the range [low, high]\n",
    "def generate_random_array(N, low, high):\n",
    "    return np.random.randint(low, high+1, N)\n",
    "\n",
    "# Parameters for random array generation\n",
    "N = 10  # Size of the array\n",
    "low = 1  # Lower bound of integer values\n",
    "high = 100  # Upper bound of integer values\n",
    "\n",
    "# Generate the random array\n",
    "random_array = generate_random_array(N, low, high)\n",
    "\n",
    "# Calculate the mean, standard deviation, and sum of the array elements\n",
    "mean = np.mean(random_array)\n",
    "std_dev = np.std(random_array)\n",
    "array_sum = np.sum(random_array)\n",
    "\n",
    "print(\"Random Array:\", random_array)\n",
    "print(\"Mean:\", mean)\n",
    "print(\"Standard Deviation:\", std_dev)\n",
    "print(\"Sum:\", array_sum)"
   ]
  },
  {
   "cell_type": "code",
   "execution_count": 15,
   "metadata": {},
   "outputs": [
    {
     "name": "stdout",
     "output_type": "stream",
     "text": [
      "Department-wise statistics:\n",
      "            salary   age\n",
      "department              \n",
      "Finance     5000.0  30.0\n",
      "HR          4500.0  35.0\n",
      "Sales       4000.0  32.0\n"
     ]
    }
   ],
   "source": [
    "import pandas as pd\n",
    "\n",
    "# Assuming employee_data is a DataFrame containing employee information with columns: [name, department, salary, age]\n",
    "employee_data = pd.DataFrame([\n",
    "    ['John', 'Finance', 5000, 30],\n",
    "    ['David', 'HR', 4500, 35],\n",
    "    ['Sarah', 'Sales', 4000, 32]],\n",
    "    columns=['name', 'department', 'salary', 'age'])\n",
    "\n",
    "# Group employees by department and calculate average salary and median age in each department\n",
    "grouped_data = employee_data.groupby('department').agg({'salary': 'mean', 'age': 'median'})\n",
    "\n",
    "print(\"Department-wise statistics:\")\n",
    "print(grouped_data)"
   ]
  },
  {
   "cell_type": "code",
   "execution_count": 5,
   "metadata": {},
   "outputs": [
    {
     "name": "stdout",
     "output_type": "stream",
     "text": [
      "BMI: 22.49134948096886\n",
      "Health status: Normal weight\n"
     ]
    }
   ],
   "source": [
    "def calculate_bmi(height, weight):\n",
    "    bmi = weight / (height ** 2)\n",
    "    return bmi\n",
    "\n",
    "def get_health_status(bmi):\n",
    "    if bmi < 18.5:\n",
    "        return \"Underweight\"\n",
    "    elif 18.5 <= bmi < 25:\n",
    "        return \"Normal weight\"\n",
    "    elif 25 <= bmi < 30:\n",
    "        return \"Overweight\"\n",
    "    else:\n",
    "        return \"Obese\"\n",
    "\n",
    "height = 1.7  # Height in meters\n",
    "weight = 65  # Weight in kilograms\n",
    "\n",
    "bmi = calculate_bmi(height, weight)\n",
    "health_status = get_health_status(bmi)\n",
    "\n",
    "print(\"BMI:\", bmi)\n",
    "print(\"Health status:\", health_status)"
   ]
  }
 ],
 "metadata": {
  "kernelspec": {
   "display_name": "base",
   "language": "python",
   "name": "python3"
  },
  "language_info": {
   "codemirror_mode": {
    "name": "ipython",
    "version": 3
   },
   "file_extension": ".py",
   "mimetype": "text/x-python",
   "name": "python",
   "nbconvert_exporter": "python",
   "pygments_lexer": "ipython3",
   "version": "3.10.9"
  },
  "orig_nbformat": 4
 },
 "nbformat": 4,
 "nbformat_minor": 2
}
